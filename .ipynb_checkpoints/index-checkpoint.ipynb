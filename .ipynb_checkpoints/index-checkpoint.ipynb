{
 "cells": [
  {
   "cell_type": "markdown",
   "metadata": {},
   "source": [
    "# Well-Formed HTML Document Lab"
   ]
  },
  {
   "cell_type": "markdown",
   "metadata": {},
   "source": [
    "## Introduction\n",
    "\n",
    "It's time to practice making a well formated HTML document!"
   ]
  },
  {
   "cell_type": "markdown",
   "metadata": {},
   "source": [
    "## Objectives\n",
    "You will be able to:\n",
    "* Add an appropriate `doctype` tag at the top of an HTML file.\n",
    "* Enclose the HTML contents of a site inside `html` tags.\n",
    "* Structure an HTML document with `head` and `body` tags.\n",
    "* Add `title` tags to give the page a title that will show up in the browser\n",
    "tab.\n",
    " "
   ]
  },
  {
   "cell_type": "markdown",
   "metadata": {},
   "source": [
    "## Instructions\n",
    "\n",
    "Open `index.html` in your text editor. Add a `doctype` tag at the top of the\n",
    "file indicating that the rest of the file will be HTML code. Then create\n",
    "opening and closing `html` tags to enclose the remainder of your page's\n",
    "content. Add opening and closing `head` and `body` tags within the outer\n",
    "`html` tags to break your HTML document up into two sections. Remember, the\n",
    "`head` section generally contains data intended for the web browser, and the\n",
    "`body` section contains the content our users will see and interact with on the\n",
    "page.\n",
    "\n",
    "You can run the tests with this lab via `learn`. Make sure you save the file\n",
    "before running the test suite. Failing tests will provide helpful error\n",
    "messages that you can use to debug your code — read them closely for hints!\n",
    "\n",
    "## Viewing your work in the browser\n",
    "\n",
    "While working through these assignments, your general workflow should center on\n",
    "writing code in the text editor and periodically running the test suite in the\n",
    "terminal to check your work.\n",
    "\n",
    "Another great way to track your progress is to open up the HTML document in\n",
    "your browser and watch how each change you make in the text editor affects the\n",
    "visual layout in the browser. If you're using a local development environment,\n",
    "you can open the HTML file directly in your browser. If you're coding in the\n",
    "Learn IDE, check out this [Help Center article](http://help.learn.co/the-learn-ide/common-ide-questions/viewing-html-pages-in-the-learn-ide)\n",
    "that explains how to spin up and connect to a simple remote server.\n",
    "\n",
    "Once you have the HTML document open in your browser, you can make changes to\n",
    "it in the text editor, save the file, refresh the page in the browser, and see\n",
    "the changes instantly.\n",
    "\n",
    "## Resources\n",
    "\n",
    "* [W3S — HTML `<!DOCTYPE>` Declaration](https://www.w3schools.com/tags/tag_doctype.asp)\n"
   ]
  },
  {
   "cell_type": "markdown",
   "metadata": {},
   "source": [
    "## Summary\n",
    "\n",
    "Well done! You just practiced writing your own structured HTML document!"
   ]
  }
 ],
 "metadata": {
  "kernelspec": {
   "display_name": "Python 3",
   "language": "python",
   "name": "python3"
  },
  "language_info": {
   "codemirror_mode": {
    "name": "ipython",
    "version": 3
   },
   "file_extension": ".py",
   "mimetype": "text/x-python",
   "name": "python",
   "nbconvert_exporter": "python",
   "pygments_lexer": "ipython3",
   "version": "3.6.5"
  }
 },
 "nbformat": 4,
 "nbformat_minor": 2
}
